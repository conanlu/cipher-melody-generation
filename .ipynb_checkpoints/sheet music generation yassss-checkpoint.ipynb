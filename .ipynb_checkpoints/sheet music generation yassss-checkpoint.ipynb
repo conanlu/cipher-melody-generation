{
 "cells": [
  {
   "cell_type": "code",
   "execution_count": 6,
   "id": "5968f760",
   "metadata": {},
   "outputs": [],
   "source": [
    "import mingus.extra.lilypond as LilyPond\n",
    "from mingus.containers import Bar\n"
   ]
  },
  {
   "cell_type": "code",
   "execution_count": null,
   "id": "e1cbd6dd",
   "metadata": {},
   "outputs": [],
   "source": []
  },
  {
   "cell_type": "code",
   "execution_count": 8,
   "id": "e45f8e2e",
   "metadata": {
    "scrolled": true
   },
   "outputs": [
    {
     "name": "stdout",
     "output_type": "stream",
     "text": [
      "Executing: lilypond -fpng -o \"my_first_bar\" \"my_first_bar.ly\"\n"
     ]
    },
    {
     "data": {
      "text/plain": [
       "True"
      ]
     },
     "execution_count": 8,
     "metadata": {},
     "output_type": "execute_result"
    }
   ],
   "source": [
    "b = Bar()\n",
    "b + \"C\"\n",
    "b + \"E\"\n",
    "b + \"G\"\n",
    "b + \"B\"\n",
    "bar = LilyPond.from_Bar(b)\n",
    "# LilyPond.to_png(bar, \"my_first_bar\")\n",
    "!ly -fpng -o bar \"my_first_bar\""
   ]
  },
  {
   "cell_type": "code",
   "execution_count": null,
   "id": "5af6847d",
   "metadata": {},
   "outputs": [],
   "source": []
  }
 ],
 "metadata": {
  "kernelspec": {
   "display_name": "Python 3 (ipykernel)",
   "language": "python",
   "name": "python3"
  },
  "language_info": {
   "codemirror_mode": {
    "name": "ipython",
    "version": 3
   },
   "file_extension": ".py",
   "mimetype": "text/x-python",
   "name": "python",
   "nbconvert_exporter": "python",
   "pygments_lexer": "ipython3",
   "version": "3.7.12"
  }
 },
 "nbformat": 4,
 "nbformat_minor": 5
}
