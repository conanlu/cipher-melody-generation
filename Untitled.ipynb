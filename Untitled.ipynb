{
 "cells": [
  {
   "cell_type": "code",
   "execution_count": 35,
   "id": "5c602a70",
   "metadata": {},
   "outputs": [],
   "source": [
    "import music21"
   ]
  },
  {
   "cell_type": "code",
   "execution_count": 57,
   "id": "ebe82064",
   "metadata": {},
   "outputs": [],
   "source": [
    "input_string = \"Ben Langman\""
   ]
  },
  {
   "cell_type": "code",
   "execution_count": 58,
   "id": "ec2ea824",
   "metadata": {},
   "outputs": [],
   "source": [
    "s = music21.stream.Stream()"
   ]
  },
  {
   "cell_type": "code",
   "execution_count": 59,
   "id": "6037dfbb",
   "metadata": {},
   "outputs": [],
   "source": [
    "# if c is a character\n",
    "def char_to_note (c):\n",
    "    return chr((((((ord(c[0].lower()) - 97) % 7) + 65) + 2) % 7) + 65)  + \"4\"\n",
    "    \n",
    "for c in input_string:\n",
    "    if c.isalpha():\n",
    "        s.append(music21.note.Note(char_to_note(c), type='quarter'))\n",
    "    else:\n",
    "        s.append(music21.note.Rest())\n"
   ]
  },
  {
   "cell_type": "code",
   "execution_count": 62,
   "id": "83c371af",
   "metadata": {},
   "outputs": [],
   "source": [
    "mf = music21.midi.translate.streamToMidiFile(s)"
   ]
  },
  {
   "cell_type": "code",
   "execution_count": 63,
   "id": "afda9204",
   "metadata": {},
   "outputs": [],
   "source": [
    "mf.open('test.mid', 'wb')\n",
    "mf.write()\n",
    "mf.close()"
   ]
  },
  {
   "cell_type": "code",
   "execution_count": 64,
   "id": "fe3e4d27",
   "metadata": {},
   "outputs": [],
   "source": [
    "import math\n",
    "import os\n",
    "import magenta.music as mm\n",
    "import tensorflow as tf\n",
    "from magenta.models.melody_rnn import melody_rnn_sequence_generator\n",
    "from magenta.music import DEFAULT_QUARTERS_PER_MINUTE"
   ]
  },
  {
   "cell_type": "code",
   "execution_count": null,
   "id": "c235ec7b",
   "metadata": {},
   "outputs": [],
   "source": []
  },
  {
   "cell_type": "code",
   "execution_count": 65,
   "id": "b9a47920",
   "metadata": {},
   "outputs": [],
   "source": [
    "\n",
    "from magenta.models.shared import sequence_generator_bundle \n",
    "from magenta.models.melody_rnn import melody_rnn_sequence_generator"
   ]
  },
  {
   "cell_type": "code",
   "execution_count": 66,
   "id": "706239b5",
   "metadata": {},
   "outputs": [],
   "source": [
    "from note_seq.protobuf.generator_pb2 import GeneratorOptions\n",
    "from note_seq.protobuf.music_pb2 import NoteSequence"
   ]
  },
  {
   "cell_type": "code",
   "execution_count": 67,
   "id": "2938a68b",
   "metadata": {},
   "outputs": [],
   "source": [
    "# !pip install magenta.protobuf"
   ]
  },
  {
   "cell_type": "code",
   "execution_count": 68,
   "id": "6efa216c",
   "metadata": {},
   "outputs": [],
   "source": [
    "generator_id = 'lookback_rnn' \n",
    " \n",
    "bundle_name = generator_id + \".mag\"\n",
    " \n",
    "mm.notebook_utils.download_bundle(bundle_name, \"bundles\")\n",
    "bundle = sequence_generator_bundle.read_bundle_file(\n",
    "    os.path.join(\"bundles\", bundle_name))\n",
    " \n",
    "generator_map = melody_rnn_sequence_generator.get_generator_map()"
   ]
  },
  {
   "cell_type": "code",
   "execution_count": 69,
   "id": "393f6f0e",
   "metadata": {},
   "outputs": [
    {
     "name": "stdout",
     "output_type": "stream",
     "text": [
      "WARNING:tensorflow:The saved meta_graph is possibly from an older release:\n",
      "'model_variables' collection should be of type 'byte_list', but instead is of type 'node_list'.\n",
      "INFO:tensorflow:Restoring parameters from C:\\Users\\conan\\AppData\\Local\\Temp\\tmp2u4dpu4r\\model.ckpt\n"
     ]
    }
   ],
   "source": [
    "generator = generator_map[generator_id](checkpoint=None, bundle=bundle)\n",
    " \n",
    "generator.initialize()"
   ]
  },
  {
   "cell_type": "code",
   "execution_count": 70,
   "id": "c4c18de6",
   "metadata": {},
   "outputs": [],
   "source": [
    "primer_filename = (\"test.mid\")\n",
    " \n",
    "primer_sequence = mm.midi_io.midi_file_to_note_sequence(primer_filename)\n",
    " \n",
    "if primer_sequence.tempos:\n",
    "    if len(primer_sequence.tempos) > 1:\n",
    "        raise Exception(\"This will end up being the first tempo anyways\")\n",
    "    qpm = primer_sequence.tempos[0].qpm\n",
    "else:\n",
    "    qpm = 60 # just choosing a value, because it was None before\n",
    " \n",
    "seconds_per_step = 60.0 / qpm / getattr(generator, \"steps_per_quarter\", 4)\n",
    " \n",
    "primer_sequence_length_steps = math.ceil(primer_sequence.total_time/ seconds_per_step)\n",
    " \n",
    "primer_sequence_length_time = primer_sequence_length_steps * seconds_per_step "
   ]
  },
  {
   "cell_type": "code",
   "execution_count": 71,
   "id": "10427a9d",
   "metadata": {},
   "outputs": [
    {
     "name": "stdout",
     "output_type": "stream",
     "text": [
      "5.5\n"
     ]
    }
   ],
   "source": [
    "print(primer_sequence_length_time)"
   ]
  },
  {
   "cell_type": "code",
   "execution_count": 54,
   "id": "2d6c82dd",
   "metadata": {},
   "outputs": [
    {
     "data": {
      "text/plain": [
       "84"
      ]
     },
     "execution_count": 54,
     "metadata": {},
     "output_type": "execute_result"
    }
   ],
   "source": [
    "#This is a pure magenta hack to make sure it starts generating right after the primer, without an extra bar. \n",
    "primer_end_adjust = (0.00001 if primer_sequence_length_time > 0 else 0)\n",
    " \n",
    "primer_start_time = 0\n",
    " \n",
    "# primer_end_time = (primer_start_time\n",
    "#                      + primer_sequence_length_time\n",
    "#                      - primer_end_adjust)\n",
    "\n",
    "\n",
    "primer_end_time = (primer_start_time\n",
    "                     + primer_sequence_length_time)\n",
    " \n",
    "total_length_steps = 128\n",
    " \n",
    "generation_length_steps = total_length_steps - primer_sequence_length_steps\n",
    " \n",
    "generation_length_steps"
   ]
  },
  {
   "cell_type": "code",
   "execution_count": 55,
   "id": "61e34325",
   "metadata": {},
   "outputs": [
    {
     "name": "stdout",
     "output_type": "stream",
     "text": [
      "INFO:tensorflow:Beam search yields sequence with log-likelihood: -64.090790 \n"
     ]
    }
   ],
   "source": [
    "if generation_length_steps <= 0:\n",
    "    raise Exception(\"Total length in steps too small \"\n",
    "                    + \"(\" + str(total_length_steps) + \")\"\n",
    "                    + \", needs to be at least one bar bigger than primer \"\n",
    "                    + \"(\" + str(primer_sequence_length_steps) + \")\")\n",
    "generation_length_time = generation_length_steps * seconds_per_step\n",
    " \n",
    "generation_start_time = primer_end_time\n",
    "generation_end_time = (generation_start_time\n",
    "                         + generation_length_time\n",
    "                         + primer_end_adjust)\n",
    " \n",
    "generator_options = GeneratorOptions()\n",
    " \n",
    "#parameters of the generator\n",
    "temperature: float = 1.0\n",
    "beam_size: int = 1\n",
    "branch_factor: int = 1\n",
    "steps_per_iteration: int = 1\n",
    " \n",
    "generator_options.args['temperature'].float_value = temperature\n",
    "generator_options.args['beam_size'].int_value = beam_size\n",
    "generator_options.args['branch_factor'].int_value = branch_factor\n",
    "generator_options.args['steps_per_iteration'].int_value = steps_per_iteration\n",
    " \n",
    "generator_options.generate_sections.add(\n",
    "    start_time=generation_start_time,\n",
    "    end_time=generation_end_time)\n",
    " \n",
    "sequence = generator.generate(input_sequence=primer_sequence,generator_options=generator_options)"
   ]
  },
  {
   "cell_type": "code",
   "execution_count": 56,
   "id": "33133af7",
   "metadata": {},
   "outputs": [],
   "source": [
    "mm.midi_io.note_sequence_to_midi_file(sequence=sequence, output_file=\"output.mid\")"
   ]
  },
  {
   "cell_type": "code",
   "execution_count": 19,
   "id": "9251f4d3",
   "metadata": {},
   "outputs": [],
   "source": [
    "stri = \"f\""
   ]
  },
  {
   "cell_type": "code",
   "execution_count": 23,
   "id": "e1a78021",
   "metadata": {},
   "outputs": [
    {
     "data": {
      "text/plain": [
       "102"
      ]
     },
     "execution_count": 23,
     "metadata": {},
     "output_type": "execute_result"
    }
   ],
   "source": [
    "ord(stri[0].lower())"
   ]
  },
  {
   "cell_type": "code",
   "execution_count": 24,
   "id": "46bc277a",
   "metadata": {},
   "outputs": [
    {
     "data": {
      "text/plain": [
       "'F'"
      ]
     },
     "execution_count": 24,
     "metadata": {},
     "output_type": "execute_result"
    }
   ],
   "source": [
    "chr(((ord(stri[0].lower()) - 97) % 7) + 65)"
   ]
  },
  {
   "cell_type": "code",
   "execution_count": 25,
   "id": "6fe80932",
   "metadata": {},
   "outputs": [
    {
     "data": {
      "text/plain": [
       "True"
      ]
     },
     "execution_count": 25,
     "metadata": {},
     "output_type": "execute_result"
    }
   ],
   "source": [
    "stri[0].isalpha()"
   ]
  },
  {
   "cell_type": "code",
   "execution_count": null,
   "id": "6cc4cbc9",
   "metadata": {},
   "outputs": [],
   "source": []
  }
 ],
 "metadata": {
  "kernelspec": {
   "display_name": "Python 3 (ipykernel)",
   "language": "python",
   "name": "python3"
  },
  "language_info": {
   "codemirror_mode": {
    "name": "ipython",
    "version": 3
   },
   "file_extension": ".py",
   "mimetype": "text/x-python",
   "name": "python",
   "nbconvert_exporter": "python",
   "pygments_lexer": "ipython3",
   "version": "3.7.12"
  }
 },
 "nbformat": 4,
 "nbformat_minor": 5
}
